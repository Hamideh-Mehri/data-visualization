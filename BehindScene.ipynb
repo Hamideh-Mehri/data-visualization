{
 "cells": [
  {
   "cell_type": "code",
   "execution_count": 1,
   "metadata": {},
   "outputs": [],
   "source": [
    "import pandas as pd\n",
    "import matplotlib.pyplot as plt\n",
    "import seaborn as sns \n",
    "import numpy as np\n",
    "from matplotlib import cm\n",
    "import matplotlib"
   ]
  },
  {
   "cell_type": "markdown",
   "metadata": {},
   "source": [
    "## first plot\n",
    "* for the first plot(bar chart and pie chart), I draw these three plots, and I eventually end up with what is plotted in the file 'Main project'"
   ]
  },
  {
   "cell_type": "code",
   "execution_count": 2,
   "metadata": {},
   "outputs": [
    {
     "data": {
      "text/html": [
       "<div>\n",
       "<style scoped>\n",
       "    .dataframe tbody tr th:only-of-type {\n",
       "        vertical-align: middle;\n",
       "    }\n",
       "\n",
       "    .dataframe tbody tr th {\n",
       "        vertical-align: top;\n",
       "    }\n",
       "\n",
       "    .dataframe thead th {\n",
       "        text-align: right;\n",
       "    }\n",
       "</style>\n",
       "<table border=\"1\" class=\"dataframe\">\n",
       "  <thead>\n",
       "    <tr style=\"text-align: right;\">\n",
       "      <th></th>\n",
       "      <th>ticket_type</th>\n",
       "      <th>creation_date</th>\n",
       "      <th>view_date</th>\n",
       "      <th>action_date</th>\n",
       "      <th>customer_satisfaction</th>\n",
       "      <th>customer_problem_resolved</th>\n",
       "      <th>user_actioned</th>\n",
       "      <th>user_team</th>\n",
       "    </tr>\n",
       "  </thead>\n",
       "  <tbody>\n",
       "    <tr>\n",
       "      <th>0</th>\n",
       "      <td>live_chat</td>\n",
       "      <td>2021-07-02 08:36:00</td>\n",
       "      <td>2021-07-02 08:36:00</td>\n",
       "      <td>2021-07-02 08:50:00</td>\n",
       "      <td>1</td>\n",
       "      <td>False</td>\n",
       "      <td>291950</td>\n",
       "      <td>orange</td>\n",
       "    </tr>\n",
       "    <tr>\n",
       "      <th>1</th>\n",
       "      <td>web_form</td>\n",
       "      <td>2021-07-02 02:37:00</td>\n",
       "      <td>2021-07-02 08:51:00</td>\n",
       "      <td>2021-07-02 09:12:00</td>\n",
       "      <td>1</td>\n",
       "      <td>False</td>\n",
       "      <td>291950</td>\n",
       "      <td>orange</td>\n",
       "    </tr>\n",
       "    <tr>\n",
       "      <th>2</th>\n",
       "      <td>web_form</td>\n",
       "      <td>2021-07-02 02:50:00</td>\n",
       "      <td>2021-07-02 09:15:00</td>\n",
       "      <td>2021-07-02 09:38:00</td>\n",
       "      <td>1</td>\n",
       "      <td>False</td>\n",
       "      <td>291950</td>\n",
       "      <td>orange</td>\n",
       "    </tr>\n",
       "    <tr>\n",
       "      <th>3</th>\n",
       "      <td>web_form</td>\n",
       "      <td>2021-07-02 02:01:00</td>\n",
       "      <td>2021-07-02 09:44:00</td>\n",
       "      <td>2021-07-02 10:06:00</td>\n",
       "      <td>1</td>\n",
       "      <td>False</td>\n",
       "      <td>291950</td>\n",
       "      <td>orange</td>\n",
       "    </tr>\n",
       "    <tr>\n",
       "      <th>4</th>\n",
       "      <td>web_form</td>\n",
       "      <td>2021-07-02 02:41:00</td>\n",
       "      <td>2021-07-02 10:14:00</td>\n",
       "      <td>2021-07-02 10:37:00</td>\n",
       "      <td>2</td>\n",
       "      <td>False</td>\n",
       "      <td>291950</td>\n",
       "      <td>orange</td>\n",
       "    </tr>\n",
       "  </tbody>\n",
       "</table>\n",
       "</div>"
      ],
      "text/plain": [
       "  ticket_type       creation_date           view_date         action_date  \\\n",
       "0   live_chat 2021-07-02 08:36:00 2021-07-02 08:36:00 2021-07-02 08:50:00   \n",
       "1    web_form 2021-07-02 02:37:00 2021-07-02 08:51:00 2021-07-02 09:12:00   \n",
       "2    web_form 2021-07-02 02:50:00 2021-07-02 09:15:00 2021-07-02 09:38:00   \n",
       "3    web_form 2021-07-02 02:01:00 2021-07-02 09:44:00 2021-07-02 10:06:00   \n",
       "4    web_form 2021-07-02 02:41:00 2021-07-02 10:14:00 2021-07-02 10:37:00   \n",
       "\n",
       "   customer_satisfaction  customer_problem_resolved user_actioned user_team  \n",
       "0                      1                      False        291950    orange  \n",
       "1                      1                      False        291950    orange  \n",
       "2                      1                      False        291950    orange  \n",
       "3                      1                      False        291950    orange  \n",
       "4                      2                      False        291950    orange  "
      ]
     },
     "execution_count": 2,
     "metadata": {},
     "output_type": "execute_result"
    }
   ],
   "source": [
    "df = pd.read_csv('tickets.csv',parse_dates=['creation_date', 'view_date', 'action_date'])\n",
    "df.head()"
   ]
  },
  {
   "cell_type": "code",
   "execution_count": 3,
   "metadata": {},
   "outputs": [
    {
     "data": {
      "text/html": [
       "<div>\n",
       "<style scoped>\n",
       "    .dataframe tbody tr th:only-of-type {\n",
       "        vertical-align: middle;\n",
       "    }\n",
       "\n",
       "    .dataframe tbody tr th {\n",
       "        vertical-align: top;\n",
       "    }\n",
       "\n",
       "    .dataframe thead th {\n",
       "        text-align: right;\n",
       "    }\n",
       "</style>\n",
       "<table border=\"1\" class=\"dataframe\">\n",
       "  <thead>\n",
       "    <tr style=\"text-align: right;\">\n",
       "      <th></th>\n",
       "      <th>customer_satisfaction</th>\n",
       "      <th>number</th>\n",
       "    </tr>\n",
       "  </thead>\n",
       "  <tbody>\n",
       "    <tr>\n",
       "      <th>0</th>\n",
       "      <td>1</td>\n",
       "      <td>14046</td>\n",
       "    </tr>\n",
       "    <tr>\n",
       "      <th>1</th>\n",
       "      <td>2</td>\n",
       "      <td>5176</td>\n",
       "    </tr>\n",
       "    <tr>\n",
       "      <th>2</th>\n",
       "      <td>3</td>\n",
       "      <td>5108</td>\n",
       "    </tr>\n",
       "    <tr>\n",
       "      <th>3</th>\n",
       "      <td>4</td>\n",
       "      <td>3669</td>\n",
       "    </tr>\n",
       "    <tr>\n",
       "      <th>4</th>\n",
       "      <td>5</td>\n",
       "      <td>3521</td>\n",
       "    </tr>\n",
       "  </tbody>\n",
       "</table>\n",
       "</div>"
      ],
      "text/plain": [
       "   customer_satisfaction  number\n",
       "0                      1   14046\n",
       "1                      2    5176\n",
       "2                      3    5108\n",
       "3                      4    3669\n",
       "4                      5    3521"
      ]
     },
     "execution_count": 3,
     "metadata": {},
     "output_type": "execute_result"
    }
   ],
   "source": [
    "scoredf = df[['customer_satisfaction', 'ticket_type']].groupby('customer_satisfaction').count().rename(columns={'ticket_type':'number'}).sort_values(by='number',ascending=False).reset_index()\n",
    "scoredf"
   ]
  },
  {
   "cell_type": "code",
   "execution_count": 4,
   "metadata": {},
   "outputs": [
    {
     "data": {
      "text/plain": [
       "31520"
      ]
     },
     "execution_count": 4,
     "metadata": {},
     "output_type": "execute_result"
    }
   ],
   "source": [
    "number_of_tickets = df.count()['customer_satisfaction']\n",
    "number_of_tickets"
   ]
  },
  {
   "cell_type": "code",
   "execution_count": 5,
   "metadata": {},
   "outputs": [],
   "source": [
    "#change the index of dataform \n",
    "scoredf['ii'] = [4,3,2,1,0]\n",
    "scoredf = scoredf.set_index('ii')"
   ]
  },
  {
   "cell_type": "code",
   "execution_count": 6,
   "metadata": {},
   "outputs": [],
   "source": [
    "colors =[ '#2c7bb6', '#abd9e9', '#ffffbf','#fdae61', '#d7191c']\n",
    "xticks = list(np.arange(3000,31000,2000))\n",
    "xticks.append(number_of_tickets)"
   ]
  },
  {
   "cell_type": "code",
   "execution_count": 7,
   "metadata": {},
   "outputs": [
    {
     "data": {
      "image/png": "[encoded data removed]",
      "text/plain": [
       "<Figure size 864x504 with 1 Axes>"
      ]
     },
     "metadata": {
      "needs_background": "light"
     },
     "output_type": "display_data"
    }
   ],
   "source": [
    "fig, ax = plt.subplots(figsize=(12,7))\n",
    "ax.barh(['very Satisfied','Satisfied', 'Neutral', 'Dissatisfied', 'very Dissatisfied'], scoredf['number'].sort_index(), \n",
    "        Height=0.6, align= 'center', color= colors, zorder=3)\n",
    "ax.set_yticks([-0.1, 0.9, 1.9, 2.9, 3.9])\n",
    "\n",
    "\n",
    "ax.set_xlim((0,number_of_tickets))\n",
    "ax.set_xticks(xticks)\n",
    "ax.tick_params(axis='y', which='major',length=0)\n",
    "ax.xaxis.grid(zorder=0, linewidth=0.2) \n",
    "\n",
    "# Hide the spines\n",
    "ax.spines['right'].set_visible(False)\n",
    "ax.spines['top'].set_visible(False)\n",
    "ax.spines['left'].set_visible(False)\n",
    "ax.spines['bottom'].set_visible(False)"
   ]
  },
  {
   "cell_type": "code",
   "execution_count": 8,
   "metadata": {},
   "outputs": [
    {
     "data": {
      "text/plain": [
       "[11.2, 11.6, 16.2, 16.4, 44.6]"
      ]
     },
     "execution_count": 8,
     "metadata": {},
     "output_type": "execute_result"
    }
   ],
   "source": [
    "list_percent = (scoredf['number'] / number_of_tickets).tolist()\n",
    "round_list_percent = [round(round(num, 3)*100,1) for num in list_percent]\n",
    "round_list_percent.sort()\n",
    "round_list_percent"
   ]
  },
  {
   "cell_type": "code",
   "execution_count": 9,
   "metadata": {},
   "outputs": [
    {
     "data": {
      "text/plain": [
       "['very Satisfied  11.2%',\n",
       " 'Satisfied  11.6%',\n",
       " 'Neutral  16.2%',\n",
       " 'Dissatisfied  16.4%',\n",
       " 'very Dissatisfied  44.6%']"
      ]
     },
     "execution_count": 9,
     "metadata": {},
     "output_type": "execute_result"
    }
   ],
   "source": [
    "xticks1 = list(np.arange(3500,15000,1500))\n",
    "colors =[ '#2c7bb6', '#abd9e9', '#ffffbf','#fdae61', '#d7191c']\n",
    "ylabels = ['very Satisfied','Satisfied', 'Neutral', 'Dissatisfied', 'very Dissatisfied']\n",
    "\n",
    "new_labels = [i+'  {:.1f}%'.format(j) for i, j in zip(ylabels, round_list_percent)]\n",
    "new_labels"
   ]
  },
  {
   "cell_type": "code",
   "execution_count": 10,
   "metadata": {},
   "outputs": [
    {
     "data": {
      "image/png": "[encoded data removed]",
      "text/plain": [
       "<Figure size 576x324 with 1 Axes>"
      ]
     },
     "metadata": {
      "needs_background": "light"
     },
     "output_type": "display_data"
    }
   ],
   "source": [
    "fig, ax = plt.subplots(figsize=(8,4.5))\n",
    "ax.barh(new_labels, scoredf['number'].sort_index(), \n",
    "        Height=0.6, align= 'center', color=colors, zorder=3)\n",
    "ax.set_yticks([-0.1, 0.9, 1.9, 2.9, 3.9])\n",
    "\n",
    "\n",
    "ax.set_xticks(xticks1)\n",
    "ax.tick_params(axis='both', which='major',length=0)\n",
    "ax.xaxis.grid(zorder=0, linewidth=0.2) \n",
    "ax.set_xlabel('Number of Tickets', labelpad = 13)\n",
    "\n",
    "# Hide the right and top spines\n",
    "ax.spines['right'].set_visible(False)\n",
    "ax.spines['top'].set_visible(False)\n",
    "ax.spines['left'].set_visible(False)\n",
    "ax.spines['bottom'].set_visible(False)"
   ]
  },
  {
   "cell_type": "code",
   "execution_count": 11,
   "metadata": {},
   "outputs": [
    {
     "data": {
      "image/png": "[encoded data removed]",
      "text/plain": [
       "<Figure size 576x324 with 1 Axes>"
      ]
     },
     "metadata": {
      "needs_background": "light"
     },
     "output_type": "display_data"
    }
   ],
   "source": [
    "fig, ax = plt.subplots(figsize=(8,4.5))\n",
    "ax.barh(['very Satisfied','Satisfied', 'Neutral', 'Dissatisfied', 'very Dissatisfied'], scoredf['number'].sort_index(), \n",
    "        Height=0.6, align= 'center', color=colors, zorder=3)\n",
    "ax.set_yticks([-0.1, 0.9, 1.9, 2.9, 3.9])\n",
    "\n",
    "\n",
    "ax.set_xticks(xticks1)\n",
    "ax.tick_params(axis='both', which='major',length=0)\n",
    "ax.xaxis.grid(zorder=0, linewidth=0.2) \n",
    "ax.set_xlabel('Number of Tickets', labelpad = 13)\n",
    "\n",
    "# Hide the right and top spines\n",
    "ax.spines['right'].set_visible(False)\n",
    "ax.spines['top'].set_visible(False)\n",
    "ax.spines['left'].set_visible(False)\n",
    "ax.spines['bottom'].set_visible(False)\n",
    "\n",
    "#annotate barplot\n",
    "h = -0.3\n",
    "i = 0\n",
    "for rec in ax.patches:\n",
    "    ax.annotate(str(\"{0:.1f}%\".format(round_list_percent[i])),\n",
    "                   (rec.get_x() + rec.get_width() + 650,\n",
    "                    h), ha='center', va='center',\n",
    "                   size=12, xytext=(0, 8),\n",
    "                   textcoords='offset points')\n",
    "    h = h + rec.get_height() + 0.4\n",
    "    i = i+1\n"
   ]
  },
  {
   "cell_type": "markdown",
   "metadata": {},
   "source": [
    "## Third Plot\n",
    "* for plotting the distribution of response time, I first used histogram  "
   ]
  },
  {
   "cell_type": "code",
   "execution_count": 12,
   "metadata": {},
   "outputs": [],
   "source": [
    "import seaborn as sns "
   ]
  },
  {
   "cell_type": "code",
   "execution_count": 13,
   "metadata": {},
   "outputs": [],
   "source": [
    "df['duration'] = df['action_date'] - df['creation_date']"
   ]
  },
  {
   "cell_type": "code",
   "execution_count": 14,
   "metadata": {},
   "outputs": [],
   "source": [
    "df_negative = df[(df['customer_problem_resolved'] == True) & (df['customer_satisfaction'].isin([1,2,3]))]\n",
    "df_positive = df[(df['customer_problem_resolved'] == True) & (df['customer_satisfaction'].isin([4,5]))]"
   ]
  },
  {
   "cell_type": "code",
   "execution_count": 15,
   "metadata": {},
   "outputs": [],
   "source": [
    "data_dissatisfied = df_negative['duration']/pd.Timedelta(hours=1)\n",
    "data_satisfied = df_positive['duration']/pd.Timedelta(hours=1)"
   ]
  },
  {
   "cell_type": "code",
   "execution_count": 16,
   "metadata": {},
   "outputs": [],
   "source": [
    "data_neg = data_dissatisfied.tolist()\n",
    "data_pos = data_satisfied.tolist()"
   ]
  },
  {
   "cell_type": "code",
   "execution_count": 17,
   "metadata": {},
   "outputs": [
    {
     "data": {
      "text/plain": [
       "<matplotlib.axes._subplots.AxesSubplot at 0x22164f2fc10>"
      ]
     },
     "execution_count": 17,
     "metadata": {},
     "output_type": "execute_result"
    },
    {
     "data": {
      "image/png": "[encoded data removed]",
      "text/plain": [
       "<Figure size 432x288 with 1 Axes>"
      ]
     },
     "metadata": {
      "needs_background": "light"
     },
     "output_type": "display_data"
    }
   ],
   "source": [
    "dfhist = pd.concat(axis=0, ignore_index=True, objs=[\n",
    "    pd.DataFrame.from_dict({'value': data_neg, 'name': 'negative result'}),\n",
    "    pd.DataFrame.from_dict({'value': data_pos, 'name': 'positive result'})\n",
    "])\n",
    "fig, ax = plt.subplots()\n",
    "sns.histplot(\n",
    "    data=dfhist, x='value', hue='name', multiple='dodge', stat='percent', bins=50,\n",
    "     ax=ax\n",
    ")\n"
   ]
  },
  {
   "cell_type": "markdown",
   "metadata": {},
   "source": [
    "# note\n",
    "* According to this histogram, there are extremely few records in this dataset with a value larger than 800. As a result, I constrain the x axes to (0,800) in the intention of receiving more accurate illustration. "
   ]
  },
  {
   "cell_type": "code",
   "execution_count": 18,
   "metadata": {},
   "outputs": [
    {
     "data": {
      "text/plain": [
       "(0.0, 800.0)"
      ]
     },
     "execution_count": 18,
     "metadata": {},
     "output_type": "execute_result"
    },
    {
     "data": {
      "image/png": "[encoded data removed]",
      "text/plain": [
       "<Figure size 432x288 with 1 Axes>"
      ]
     },
     "metadata": {
      "needs_background": "light"
     },
     "output_type": "display_data"
    }
   ],
   "source": [
    "dfhist = pd.concat(axis=0, ignore_index=True, objs=[\n",
    "    pd.DataFrame.from_dict({'value': data_neg, 'name': 'negative result'}),\n",
    "    pd.DataFrame.from_dict({'value': data_pos, 'name': 'positive result'})\n",
    "])\n",
    "fig, ax = plt.subplots()\n",
    "sns.histplot(\n",
    "    data=dfhist, x='value', hue='name', multiple='dodge', stat='percent', bins=50,\n",
    "     ax=ax\n",
    ")\n",
    "ax.set_xlim([0, 800])"
   ]
  },
  {
   "cell_type": "markdown",
   "metadata": {},
   "source": [
    "# note\n",
    "* I  found that histogram is not suitable for my purpose .\n",
    "* My objective is to compare the response time distributions of two defined categories. however, this diagram does not provide us with much information."
   ]
  },
  {
   "cell_type": "code",
   "execution_count": 19,
   "metadata": {},
   "outputs": [
    {
     "data": {
      "text/plain": [
       "{'whiskers': [<matplotlib.lines.Line2D at 0x22165268490>,\n",
       "  <matplotlib.lines.Line2D at 0x221652687f0>,\n",
       "  <matplotlib.lines.Line2D at 0x22165272ca0>,\n",
       "  <matplotlib.lines.Line2D at 0x2216527e040>],\n",
       " 'caps': [<matplotlib.lines.Line2D at 0x22165268b50>,\n",
       "  <matplotlib.lines.Line2D at 0x22165268eb0>,\n",
       "  <matplotlib.lines.Line2D at 0x2216527e3a0>,\n",
       "  <matplotlib.lines.Line2D at 0x2216527e700>],\n",
       " 'boxes': [<matplotlib.lines.Line2D at 0x22165268130>,\n",
       "  <matplotlib.lines.Line2D at 0x22165272940>],\n",
       " 'medians': [<matplotlib.lines.Line2D at 0x22165272250>,\n",
       "  <matplotlib.lines.Line2D at 0x2216527ea60>],\n",
       " 'fliers': [<matplotlib.lines.Line2D at 0x22165272550>,\n",
       "  <matplotlib.lines.Line2D at 0x2216527ed60>],\n",
       " 'means': []}"
      ]
     },
     "execution_count": 19,
     "metadata": {},
     "output_type": "execute_result"
    },
    {
     "data": {
      "image/png": "[encoded data removed]",
      "text/plain": [
       "<Figure size 1296x576 with 1 Axes>"
      ]
     },
     "metadata": {
      "needs_background": "light"
     },
     "output_type": "display_data"
    }
   ],
   "source": [
    "fig, ax = plt.subplots(figsize=(18,8))\n",
    "ax.boxplot([data_dissatisfied, data_satisfied], vert=False, whis=(0,90), widths=0.3)"
   ]
  },
  {
   "cell_type": "markdown",
   "metadata": {},
   "source": [
    "# note\n",
    "* box plot seems suitable"
   ]
  },
  {
   "cell_type": "code",
   "execution_count": 20,
   "metadata": {},
   "outputs": [
    {
     "data": {
      "text/plain": [
       "count                      31520\n",
       "mean      2 days 09:40:02.360012\n",
       "std       5 days 15:50:46.996949\n",
       "min              0 days 00:03:00\n",
       "25%       0 days 03:11:08.599161\n",
       "50%       0 days 12:03:40.140711\n",
       "75%       1 days 13:06:26.913897\n",
       "max      68 days 03:26:01.353675\n",
       "Name: duration, dtype: object"
      ]
     },
     "execution_count": 20,
     "metadata": {},
     "output_type": "execute_result"
    }
   ],
   "source": [
    "\n",
    "df['duration'].describe()"
   ]
  },
  {
   "cell_type": "code",
   "execution_count": 21,
   "metadata": {},
   "outputs": [
    {
     "data": {
      "text/plain": [
       "count                      7320\n",
       "mean     2 days 14:56:16.352780\n",
       "std      5 days 23:13:14.632646\n",
       "min             0 days 00:06:00\n",
       "25%      0 days 03:32:08.322029\n",
       "50%      0 days 12:50:50.332892\n",
       "75%             1 days 17:47:15\n",
       "max            64 days 19:04:00\n",
       "Name: duration, dtype: object"
      ]
     },
     "execution_count": 21,
     "metadata": {},
     "output_type": "execute_result"
    }
   ],
   "source": [
    "df_negative['duration'].describe()"
   ]
  },
  {
   "cell_type": "code",
   "execution_count": 22,
   "metadata": {},
   "outputs": [
    {
     "data": {
      "text/plain": [
       "Timedelta('7 days 14:49:30.582320')"
      ]
     },
     "execution_count": 22,
     "metadata": {},
     "output_type": "execute_result"
    }
   ],
   "source": [
    "df_negative['duration'].quantile(0.90)"
   ]
  },
  {
   "cell_type": "code",
   "execution_count": 23,
   "metadata": {},
   "outputs": [
    {
     "data": {
      "text/plain": [
       "Timedelta('6 days 17:21:46.220353')"
      ]
     },
     "execution_count": 23,
     "metadata": {},
     "output_type": "execute_result"
    }
   ],
   "source": [
    "df['duration'].quantile(0.90)"
   ]
  },
  {
   "cell_type": "code",
   "execution_count": 24,
   "metadata": {},
   "outputs": [
    {
     "data": {
      "text/plain": [
       "31520"
      ]
     },
     "execution_count": 24,
     "metadata": {},
     "output_type": "execute_result"
    }
   ],
   "source": [
    "#total number of tickets\n",
    "number_of_tickets = df.count()['customer_satisfaction']\n",
    "number_of_tickets"
   ]
  },
  {
   "cell_type": "code",
   "execution_count": 25,
   "metadata": {},
   "outputs": [
    {
     "data": {
      "text/plain": [
       "0.9609454314720812"
      ]
     },
     "execution_count": 25,
     "metadata": {},
     "output_type": "execute_result"
    }
   ],
   "source": [
    "df['duration'][df['duration'] < pd.Timedelta(days=15)].shape[0]/number_of_tickets"
   ]
  },
  {
   "cell_type": "markdown",
   "metadata": {},
   "source": [
    "## decision about the frame of data for plotting box plots\n",
    "* from the outliers in histogram, boxplot, and the information from different quantiles of the response time data, I decided to choose the tickets with the response time below 15 days as the framing. "
   ]
  },
  {
   "cell_type": "markdown",
   "metadata": {},
   "source": [
    "# fourth diagram\n",
    "* I began by using a line plot to investigate the association between ticket volume and customer satisfaction. however, this plot does not immediately convey the message I desire"
   ]
  },
  {
   "cell_type": "code",
   "execution_count": 26,
   "metadata": {},
   "outputs": [],
   "source": [
    "df['date'] = df['creation_date'].dt.date\n",
    "df['date2'] = df['view_date'].dt.date"
   ]
  },
  {
   "cell_type": "code",
   "execution_count": 27,
   "metadata": {},
   "outputs": [],
   "source": [
    "datedf1 =  df[['date','customer_satisfaction']].groupby('date').count().reset_index()\n",
    "datemean = df[['date','customer_satisfaction']].groupby('date').mean().reset_index().rename(columns={'customer_satisfaction': 'mean_satisfaction'})\n",
    "datecount =  df[['date','customer_satisfaction']].groupby('date').count().reset_index().rename(columns={'customer_satisfaction': 'totalticket'})\n",
    "correlationdf = datemean.merge(datecount)\n",
    "daterate = df[['date','customer_satisfaction','user_actioned']].groupby(['date','customer_satisfaction']).count().reset_index().rename(columns={'user_actioned': 'totalrate'})\n",
    "\n",
    "totaldf = daterate.merge(datecount)\n",
    "totaldf['ratio'] = (totaldf['totalrate']/totaldf['totalticket']) * 100\n",
    "datedf1 =  df[['date','customer_satisfaction']].groupby('date').count().reset_index()"
   ]
  },
  {
   "cell_type": "code",
   "execution_count": 28,
   "metadata": {},
   "outputs": [
    {
     "data": {
      "text/plain": [
       "(2.0, 3.5)"
      ]
     },
     "execution_count": 28,
     "metadata": {},
     "output_type": "execute_result"
    },
    {
     "data": {
      "image/png": "[encoded data removed]",
      "text/plain": [
       "<Figure size 1440x324 with 2 Axes>"
      ]
     },
     "metadata": {
      "needs_background": "light"
     },
     "output_type": "display_data"
    }
   ],
   "source": [
    "import matplotlib.pyplot as plt\n",
    "fig, ax1 = plt.subplots(figsize=(20,4.5))\n",
    "ax1.plot(datedf1['date'], datedf1['customer_satisfaction'], color='red')\n",
    "ax2 = ax1.twinx()\n",
    "ax2.plot(datemean['date'], datemean['mean_satisfaction'], color='blue')\n",
    "ax2.set_ylim((2,3.5))"
   ]
  },
  {
   "cell_type": "code",
   "execution_count": null,
   "metadata": {},
   "outputs": [],
   "source": []
  },
  {
   "cell_type": "code",
   "execution_count": null,
   "metadata": {},
   "outputs": [],
   "source": []
  }
 ],
 "metadata": {
  "kernelspec": {
   "display_name": "Python 3",
   "language": "python",
   "name": "python3"
  },
  "language_info": {
   "codemirror_mode": {
    "name": "ipython",
    "version": 3
   },
   "file_extension": ".py",
   "mimetype": "text/x-python",
   "name": "python",
   "nbconvert_exporter": "python",
   "pygments_lexer": "ipython3",
   "version": "3.8.3"
  }
 },
 "nbformat": 4,
 "nbformat_minor": 4
}
